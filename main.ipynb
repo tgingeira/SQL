{
 "cells": [
  {
   "cell_type": "code",
   "execution_count": 3,
   "metadata": {},
   "outputs": [],
   "source": [
    "import pandas as pd\n",
    "import numpy as np\n",
    "import sqlite3\n",
    "import sqlalchemy\n",
    "import random\n",
    "from datetime import datetime, timedelta\n",
    "import os"
   ]
  },
  {
   "attachments": {},
   "cell_type": "markdown",
   "metadata": {},
   "source": [
    "Create synthetic dataset "
   ]
  },
  {
   "cell_type": "code",
   "execution_count": 4,
   "metadata": {},
   "outputs": [],
   "source": [
    "# Define the products and regions\n",
    "products = ['Product A', 'Product B', 'Product C', 'Product D', 'Product E']\n",
    "regions = ['Region 1', 'Region 2', 'Region 3', 'Region 4', 'Region 5']\n",
    "\n",
    "# Set the random seed\n",
    "random.seed(123)\n",
    "\n",
    "# Generate random sales data\n",
    "sales_data = []\n",
    "start_date = datetime(2022, 1, 1)\n",
    "end_date = datetime(2022, 12, 31)\n",
    "for i in range(1000):\n",
    "    product = random.choice(products)\n",
    "    region = random.choice(regions)\n",
    "    sale_date = start_date + timedelta(days=random.randint(0, (end_date - start_date).days))\n",
    "    sales = np.round(random.uniform(1000, 10000), 2)\n",
    "    sales_data.append([product, region, sale_date, sales])\n",
    "\n",
    "# Convert the sales data to a Pandas DataFrame\n",
    "columns = ['Product', 'Region', 'Sale Date', 'Sales']\n",
    "df = pd.DataFrame(sales_data, columns=columns)\n",
    "\n",
    "# Save the DataFrame to a CSV file\n",
    "df.to_csv('sales_data.csv', index=False)\n"
   ]
  },
  {
   "cell_type": "code",
   "execution_count": 5,
   "metadata": {},
   "outputs": [],
   "source": [
    "# Define the name of the database and the name of the table\n",
    "database = 'data/sales.db'\n",
    "table = 'sales_data'\n",
    "\n",
    "# Create the data folder if it doesn't exist\n",
    "if not os.path.exists('data'):\n",
    "    os.makedirs('data')\n",
    "\n",
    "# Connect to the database\n",
    "conn = sqlite3.connect(database)\n",
    "\n",
    "# Check if the table already exists\n",
    "cursor = conn.cursor()\n",
    "cursor.execute(f\"SELECT name FROM sqlite_master WHERE type='table' AND name='{table}'\")\n",
    "table_exists = cursor.fetchone() is not None\n",
    "\n",
    "# If the table doesn't exist, create it\n",
    "if not table_exists:\n",
    "    df.to_sql(table, conn, index=False)\n",
    "\n",
    "# If the table already exists, append the new data to it\n",
    "else:\n",
    "    df.to_sql(table, conn, index=False, if_exists='append')\n",
    "\n",
    "# Close the connection\n",
    "conn.close()\n"
   ]
  },
  {
   "cell_type": "code",
   "execution_count": 6,
   "metadata": {},
   "outputs": [
    {
     "name": "stdout",
     "output_type": "stream",
     "text": [
      "The sql extension is already loaded. To reload it, use:\n",
      "  %reload_ext sql\n"
     ]
    }
   ],
   "source": [
    "%load_ext sql"
   ]
  },
  {
   "cell_type": "code",
   "execution_count": 7,
   "metadata": {},
   "outputs": [
    {
     "data": {
      "text/plain": [
       "'Connected: @data/sales.db'"
      ]
     },
     "execution_count": 7,
     "metadata": {},
     "output_type": "execute_result"
    }
   ],
   "source": [
    "%sql sqlite:///data/sales.db"
   ]
  },
  {
   "cell_type": "code",
   "execution_count": 8,
   "metadata": {},
   "outputs": [
    {
     "name": "stdout",
     "output_type": "stream",
     "text": [
      " * sqlite:///data/sales.db\n",
      "Done.\n"
     ]
    },
    {
     "data": {
      "text/html": [
       "<table>\n",
       "    <thead>\n",
       "        <tr>\n",
       "            <th>Product</th>\n",
       "            <th>Region</th>\n",
       "            <th>Sale Date</th>\n",
       "            <th>Sales</th>\n",
       "        </tr>\n",
       "    </thead>\n",
       "    <tbody>\n",
       "        <tr>\n",
       "            <td>Product A</td>\n",
       "            <td>Region 3</td>\n",
       "            <td>2022-02-14 00:00:00</td>\n",
       "            <td>7920.61</td>\n",
       "        </tr>\n",
       "        <tr>\n",
       "            <td>Product C</td>\n",
       "            <td>Region 1</td>\n",
       "            <td>2022-01-20 00:00:00</td>\n",
       "            <td>4412.12</td>\n",
       "        </tr>\n",
       "        <tr>\n",
       "            <td>Product E</td>\n",
       "            <td>Region 3</td>\n",
       "            <td>2022-06-24 00:00:00</td>\n",
       "            <td>8668.78</td>\n",
       "        </tr>\n",
       "        <tr>\n",
       "            <td>Product B</td>\n",
       "            <td>Region 2</td>\n",
       "            <td>2022-06-22 00:00:00</td>\n",
       "            <td>6048.66</td>\n",
       "        </tr>\n",
       "        <tr>\n",
       "            <td>Product B</td>\n",
       "            <td>Region 2</td>\n",
       "            <td>2022-01-01 00:00:00</td>\n",
       "            <td>9153.15</td>\n",
       "        </tr>\n",
       "        <tr>\n",
       "            <td>Product A</td>\n",
       "            <td>Region 5</td>\n",
       "            <td>2022-07-13 00:00:00</td>\n",
       "            <td>1628.89</td>\n",
       "        </tr>\n",
       "        <tr>\n",
       "            <td>Product C</td>\n",
       "            <td>Region 4</td>\n",
       "            <td>2022-02-22 00:00:00</td>\n",
       "            <td>9148.59</td>\n",
       "        </tr>\n",
       "        <tr>\n",
       "            <td>Product A</td>\n",
       "            <td>Region 2</td>\n",
       "            <td>2022-03-06 00:00:00</td>\n",
       "            <td>8110.65</td>\n",
       "        </tr>\n",
       "        <tr>\n",
       "            <td>Product A</td>\n",
       "            <td>Region 3</td>\n",
       "            <td>2022-08-09 00:00:00</td>\n",
       "            <td>6160.67</td>\n",
       "        </tr>\n",
       "        <tr>\n",
       "            <td>Product C</td>\n",
       "            <td>Region 4</td>\n",
       "            <td>2022-01-19 00:00:00</td>\n",
       "            <td>7919.15</td>\n",
       "        </tr>\n",
       "    </tbody>\n",
       "</table>"
      ],
      "text/plain": [
       "[('Product A', 'Region 3', '2022-02-14 00:00:00', 7920.61),\n",
       " ('Product C', 'Region 1', '2022-01-20 00:00:00', 4412.12),\n",
       " ('Product E', 'Region 3', '2022-06-24 00:00:00', 8668.78),\n",
       " ('Product B', 'Region 2', '2022-06-22 00:00:00', 6048.66),\n",
       " ('Product B', 'Region 2', '2022-01-01 00:00:00', 9153.15),\n",
       " ('Product A', 'Region 5', '2022-07-13 00:00:00', 1628.89),\n",
       " ('Product C', 'Region 4', '2022-02-22 00:00:00', 9148.59),\n",
       " ('Product A', 'Region 2', '2022-03-06 00:00:00', 8110.65),\n",
       " ('Product A', 'Region 3', '2022-08-09 00:00:00', 6160.67),\n",
       " ('Product C', 'Region 4', '2022-01-19 00:00:00', 7919.15)]"
      ]
     },
     "execution_count": 8,
     "metadata": {},
     "output_type": "execute_result"
    }
   ],
   "source": [
    "%%sql \n",
    "\n",
    "select * from sales_data limit 10"
   ]
  },
  {
   "cell_type": "code",
   "execution_count": 10,
   "metadata": {},
   "outputs": [
    {
     "name": "stdout",
     "output_type": "stream",
     "text": [
      " * sqlite:///data/sales.db\n",
      "Done.\n"
     ]
    },
    {
     "data": {
      "text/html": [
       "<table>\n",
       "    <thead>\n",
       "        <tr>\n",
       "            <th>Product</th>\n",
       "            <th>sum(sales)</th>\n",
       "        </tr>\n",
       "    </thead>\n",
       "    <tbody>\n",
       "        <tr>\n",
       "            <td>Product A</td>\n",
       "            <td>220938.52999999997</td>\n",
       "        </tr>\n",
       "        <tr>\n",
       "            <td>Product B</td>\n",
       "            <td>230473.58000000002</td>\n",
       "        </tr>\n",
       "        <tr>\n",
       "            <td>Product C</td>\n",
       "            <td>260562.74000000005</td>\n",
       "        </tr>\n",
       "        <tr>\n",
       "            <td>Product D</td>\n",
       "            <td>217392.96999999997</td>\n",
       "        </tr>\n",
       "        <tr>\n",
       "            <td>Product E</td>\n",
       "            <td>231932.2200000001</td>\n",
       "        </tr>\n",
       "    </tbody>\n",
       "</table>"
      ],
      "text/plain": [
       "[('Product A', 220938.52999999997),\n",
       " ('Product B', 230473.58000000002),\n",
       " ('Product C', 260562.74000000005),\n",
       " ('Product D', 217392.96999999997),\n",
       " ('Product E', 231932.2200000001)]"
      ]
     },
     "execution_count": 10,
     "metadata": {},
     "output_type": "execute_result"
    }
   ],
   "source": [
    "%%sql\n",
    "select product, sum(sales)\n",
    "from sales_data\n",
    "where region = 'Region 1'\n",
    "group by product"
   ]
  }
 ],
 "metadata": {
  "kernelspec": {
   "display_name": "p310",
   "language": "python",
   "name": "python3"
  },
  "language_info": {
   "codemirror_mode": {
    "name": "ipython",
    "version": 3
   },
   "file_extension": ".py",
   "mimetype": "text/x-python",
   "name": "python",
   "nbconvert_exporter": "python",
   "pygments_lexer": "ipython3",
   "version": "3.10.10"
  },
  "orig_nbformat": 4
 },
 "nbformat": 4,
 "nbformat_minor": 2
}
