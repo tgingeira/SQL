{
 "cells": [
  {
   "attachments": {},
   "cell_type": "markdown",
   "metadata": {},
   "source": [
    "## Loading Libraries"
   ]
  },
  {
   "cell_type": "code",
   "execution_count": 2,
   "metadata": {},
   "outputs": [],
   "source": [
    "import pandas as pd\n",
    "import numpy as np\n",
    "import sqlite3\n",
    "import sqlalchemy\n",
    "import random\n",
    "from datetime import datetime, timedelta\n",
    "import os"
   ]
  },
  {
   "attachments": {},
   "cell_type": "markdown",
   "metadata": {},
   "source": [
    "Create synthetic dataset "
   ]
  },
  {
   "cell_type": "code",
   "execution_count": 3,
   "metadata": {},
   "outputs": [],
   "source": [
    "# Define the products and regions\n",
    "products = ['Product A', 'Product B', 'Product C', 'Product D', 'Product E']\n",
    "regions = ['Region 1', 'Region 2', 'Region 3', 'Region 4', 'Region 5']\n",
    "\n",
    "# Set the random seed\n",
    "random.seed(123)\n",
    "\n",
    "# Generate random sales data\n",
    "sales_data = []\n",
    "start_date = datetime(2022, 1, 1)\n",
    "end_date = datetime(2022, 12, 31)\n",
    "for i in range(1000):\n",
    "    product = random.choice(products)\n",
    "    region = random.choice(regions)\n",
    "    sale_date = start_date + timedelta(days=random.randint(0, (end_date - start_date).days))\n",
    "    sales = np.round(random.uniform(1000, 10000), 2)\n",
    "    sales_data.append([product, region, sale_date, sales])\n",
    "\n",
    "# Convert the sales data to a Pandas DataFrame\n",
    "columns = ['Product', 'Region', 'Sale Date', 'Sales']\n",
    "df = pd.DataFrame(sales_data, columns=columns)\n",
    "\n",
    "# Save the DataFrame to a CSV file\n",
    "df.to_csv('sales_data.csv', index=False)\n"
   ]
  },
  {
   "cell_type": "code",
   "execution_count": 4,
   "metadata": {},
   "outputs": [],
   "source": [
    "# Define the name of the database and the name of the table\n",
    "database = 'data/sales.db'\n",
    "table = 'sales_data'\n",
    "\n",
    "# Create the data folder if it doesn't exist\n",
    "if not os.path.exists('data'):\n",
    "    os.makedirs('data')\n",
    "\n",
    "# Connect to the database\n",
    "conn = sqlite3.connect(database)\n",
    "\n",
    "# Check if the table already exists\n",
    "cursor = conn.cursor()\n",
    "cursor.execute(f\"SELECT name FROM sqlite_master WHERE type='table' AND name='{table}'\")\n",
    "table_exists = cursor.fetchone() is not None\n",
    "\n",
    "# If the table doesn't exist, create it\n",
    "if not table_exists:\n",
    "    df.to_sql(table, conn, index=False)\n",
    "\n",
    "# If the table already exists, append the new data to it\n",
    "else:\n",
    "    df.to_sql(table, conn, index=False, if_exists='append')\n",
    "\n",
    "# Close the connection\n",
    "conn.close()\n"
   ]
  },
  {
   "cell_type": "code",
   "execution_count": 5,
   "metadata": {},
   "outputs": [],
   "source": [
    "%load_ext sql"
   ]
  },
  {
   "cell_type": "code",
   "execution_count": 6,
   "metadata": {},
   "outputs": [
    {
     "data": {
      "text/plain": [
       "'Connected: @data/sales.db'"
      ]
     },
     "execution_count": 6,
     "metadata": {},
     "output_type": "execute_result"
    }
   ],
   "source": [
    "%sql sqlite:///data/sales.db"
   ]
  },
  {
   "cell_type": "code",
   "execution_count": 7,
   "metadata": {},
   "outputs": [
    {
     "name": "stdout",
     "output_type": "stream",
     "text": [
      " * sqlite:///data/sales.db\n",
      "Done.\n"
     ]
    },
    {
     "data": {
      "text/html": [
       "<table>\n",
       "    <thead>\n",
       "        <tr>\n",
       "            <th>Product</th>\n",
       "            <th>Region</th>\n",
       "            <th>Sale Date</th>\n",
       "            <th>Sales</th>\n",
       "        </tr>\n",
       "    </thead>\n",
       "    <tbody>\n",
       "        <tr>\n",
       "            <td>Product A</td>\n",
       "            <td>Region 3</td>\n",
       "            <td>2022-02-14 00:00:00</td>\n",
       "            <td>7920.61</td>\n",
       "        </tr>\n",
       "        <tr>\n",
       "            <td>Product C</td>\n",
       "            <td>Region 1</td>\n",
       "            <td>2022-01-20 00:00:00</td>\n",
       "            <td>4412.12</td>\n",
       "        </tr>\n",
       "        <tr>\n",
       "            <td>Product E</td>\n",
       "            <td>Region 3</td>\n",
       "            <td>2022-06-24 00:00:00</td>\n",
       "            <td>8668.78</td>\n",
       "        </tr>\n",
       "        <tr>\n",
       "            <td>Product B</td>\n",
       "            <td>Region 2</td>\n",
       "            <td>2022-06-22 00:00:00</td>\n",
       "            <td>6048.66</td>\n",
       "        </tr>\n",
       "        <tr>\n",
       "            <td>Product B</td>\n",
       "            <td>Region 2</td>\n",
       "            <td>2022-01-01 00:00:00</td>\n",
       "            <td>9153.15</td>\n",
       "        </tr>\n",
       "        <tr>\n",
       "            <td>Product A</td>\n",
       "            <td>Region 5</td>\n",
       "            <td>2022-07-13 00:00:00</td>\n",
       "            <td>1628.89</td>\n",
       "        </tr>\n",
       "        <tr>\n",
       "            <td>Product C</td>\n",
       "            <td>Region 4</td>\n",
       "            <td>2022-02-22 00:00:00</td>\n",
       "            <td>9148.59</td>\n",
       "        </tr>\n",
       "        <tr>\n",
       "            <td>Product A</td>\n",
       "            <td>Region 2</td>\n",
       "            <td>2022-03-06 00:00:00</td>\n",
       "            <td>8110.65</td>\n",
       "        </tr>\n",
       "        <tr>\n",
       "            <td>Product A</td>\n",
       "            <td>Region 3</td>\n",
       "            <td>2022-08-09 00:00:00</td>\n",
       "            <td>6160.67</td>\n",
       "        </tr>\n",
       "        <tr>\n",
       "            <td>Product C</td>\n",
       "            <td>Region 4</td>\n",
       "            <td>2022-01-19 00:00:00</td>\n",
       "            <td>7919.15</td>\n",
       "        </tr>\n",
       "    </tbody>\n",
       "</table>"
      ],
      "text/plain": [
       "[('Product A', 'Region 3', '2022-02-14 00:00:00', 7920.61),\n",
       " ('Product C', 'Region 1', '2022-01-20 00:00:00', 4412.12),\n",
       " ('Product E', 'Region 3', '2022-06-24 00:00:00', 8668.78),\n",
       " ('Product B', 'Region 2', '2022-06-22 00:00:00', 6048.66),\n",
       " ('Product B', 'Region 2', '2022-01-01 00:00:00', 9153.15),\n",
       " ('Product A', 'Region 5', '2022-07-13 00:00:00', 1628.89),\n",
       " ('Product C', 'Region 4', '2022-02-22 00:00:00', 9148.59),\n",
       " ('Product A', 'Region 2', '2022-03-06 00:00:00', 8110.65),\n",
       " ('Product A', 'Region 3', '2022-08-09 00:00:00', 6160.67),\n",
       " ('Product C', 'Region 4', '2022-01-19 00:00:00', 7919.15)]"
      ]
     },
     "execution_count": 7,
     "metadata": {},
     "output_type": "execute_result"
    }
   ],
   "source": [
    "%%sql \n",
    "\n",
    "select * from sales_data limit 10"
   ]
  },
  {
   "cell_type": "code",
   "execution_count": 8,
   "metadata": {},
   "outputs": [
    {
     "name": "stdout",
     "output_type": "stream",
     "text": [
      " * sqlite:///data/sales.db\n",
      "Done.\n"
     ]
    },
    {
     "data": {
      "text/html": [
       "<table>\n",
       "    <thead>\n",
       "        <tr>\n",
       "            <th>Product</th>\n",
       "            <th>sum(sales)</th>\n",
       "        </tr>\n",
       "    </thead>\n",
       "    <tbody>\n",
       "        <tr>\n",
       "            <td>Product A</td>\n",
       "            <td>441877.06000000006</td>\n",
       "        </tr>\n",
       "        <tr>\n",
       "            <td>Product B</td>\n",
       "            <td>460947.1599999999</td>\n",
       "        </tr>\n",
       "        <tr>\n",
       "            <td>Product C</td>\n",
       "            <td>521125.4800000001</td>\n",
       "        </tr>\n",
       "        <tr>\n",
       "            <td>Product D</td>\n",
       "            <td>434785.93999999994</td>\n",
       "        </tr>\n",
       "        <tr>\n",
       "            <td>Product E</td>\n",
       "            <td>463864.43999999994</td>\n",
       "        </tr>\n",
       "    </tbody>\n",
       "</table>"
      ],
      "text/plain": [
       "[('Product A', 441877.06000000006),\n",
       " ('Product B', 460947.1599999999),\n",
       " ('Product C', 521125.4800000001),\n",
       " ('Product D', 434785.93999999994),\n",
       " ('Product E', 463864.43999999994)]"
      ]
     },
     "execution_count": 8,
     "metadata": {},
     "output_type": "execute_result"
    }
   ],
   "source": [
    "%%sql\n",
    "select product, sum(sales)\n",
    "from sales_data\n",
    "where region = 'Region 1'\n",
    "group by product"
   ]
  },
  {
   "cell_type": "code",
   "execution_count": 9,
   "metadata": {},
   "outputs": [
    {
     "name": "stdout",
     "output_type": "stream",
     "text": [
      " * sqlite:///data/sales.db\n",
      "Done.\n"
     ]
    },
    {
     "data": {
      "text/html": [
       "<table>\n",
       "    <thead>\n",
       "        <tr>\n",
       "            <th>Region</th>\n",
       "            <th>product_a_sales</th>\n",
       "            <th>product_b_sales</th>\n",
       "            <th>product_c_sales</th>\n",
       "            <th>product_d_sales</th>\n",
       "            <th>product_e_sales</th>\n",
       "        </tr>\n",
       "    </thead>\n",
       "    <tbody>\n",
       "        <tr>\n",
       "            <td>Region 1</td>\n",
       "            <td>441877.06000000006</td>\n",
       "            <td>460947.1599999999</td>\n",
       "            <td>521125.4800000001</td>\n",
       "            <td>434785.93999999994</td>\n",
       "            <td>463864.43999999994</td>\n",
       "        </tr>\n",
       "        <tr>\n",
       "            <td>Region 2</td>\n",
       "            <td>550697.7000000002</td>\n",
       "            <td>335941.51999999996</td>\n",
       "            <td>528565.88</td>\n",
       "            <td>374354.31999999995</td>\n",
       "            <td>364844.70000000007</td>\n",
       "        </tr>\n",
       "        <tr>\n",
       "            <td>Region 3</td>\n",
       "            <td>336101.46</td>\n",
       "            <td>501694.10000000015</td>\n",
       "            <td>433529.9399999999</td>\n",
       "            <td>362397.45999999996</td>\n",
       "            <td>513220.87999999995</td>\n",
       "        </tr>\n",
       "        <tr>\n",
       "            <td>Region 4</td>\n",
       "            <td>337914.32</td>\n",
       "            <td>557967.66</td>\n",
       "            <td>473402.30000000005</td>\n",
       "            <td>451388.74000000017</td>\n",
       "            <td>385389.73999999993</td>\n",
       "        </tr>\n",
       "        <tr>\n",
       "            <td>Region 5</td>\n",
       "            <td>423003.2000000002</td>\n",
       "            <td>530907.1000000004</td>\n",
       "            <td>392408.92</td>\n",
       "            <td>459287.12</td>\n",
       "            <td>404601.7600000001</td>\n",
       "        </tr>\n",
       "    </tbody>\n",
       "</table>"
      ],
      "text/plain": [
       "[('Region 1', 441877.06000000006, 460947.1599999999, 521125.4800000001, 434785.93999999994, 463864.43999999994),\n",
       " ('Region 2', 550697.7000000002, 335941.51999999996, 528565.88, 374354.31999999995, 364844.70000000007),\n",
       " ('Region 3', 336101.46, 501694.10000000015, 433529.9399999999, 362397.45999999996, 513220.87999999995),\n",
       " ('Region 4', 337914.32, 557967.66, 473402.30000000005, 451388.74000000017, 385389.73999999993),\n",
       " ('Region 5', 423003.2000000002, 530907.1000000004, 392408.92, 459287.12, 404601.7600000001)]"
      ]
     },
     "execution_count": 9,
     "metadata": {},
     "output_type": "execute_result"
    }
   ],
   "source": [
    "%%sql \n",
    "SELECT\n",
    "    region,\n",
    "    SUM(CASE WHEN product = 'Product A' THEN sales ELSE 0 END) AS product_a_sales,\n",
    "    SUM(CASE WHEN product = 'Product B' THEN sales ELSE 0 END) AS product_b_sales,\n",
    "    SUM(CASE WHEN product = 'Product C' THEN sales ELSE 0 END) AS product_c_sales,\n",
    "    SUM(CASE WHEN product = 'Product D' THEN sales ELSE 0 END) AS product_d_sales,\n",
    "    SUM(CASE WHEN product = 'Product E' THEN sales ELSE 0 END) AS product_e_sales\n",
    "FROM\n",
    "    sales_data\n",
    "GROUP BY\n",
    "    region;"
   ]
  },
  {
   "cell_type": "code",
   "execution_count": 10,
   "metadata": {},
   "outputs": [
    {
     "name": "stdout",
     "output_type": "stream",
     "text": [
      " * sqlite:///data/sales.db\n",
      "Done.\n"
     ]
    },
    {
     "data": {
      "text/html": [
       "<table>\n",
       "    <thead>\n",
       "        <tr>\n",
       "            <th>region</th>\n",
       "            <th>product</th>\n",
       "            <th>total_sales</th>\n",
       "        </tr>\n",
       "    </thead>\n",
       "    <tbody>\n",
       "        <tr>\n",
       "            <td>Region 1</td>\n",
       "            <td>Product C</td>\n",
       "            <td>521125.4800000001</td>\n",
       "        </tr>\n",
       "        <tr>\n",
       "            <td>Region 2</td>\n",
       "            <td>Product A</td>\n",
       "            <td>550697.7000000002</td>\n",
       "        </tr>\n",
       "        <tr>\n",
       "            <td>Region 3</td>\n",
       "            <td>Product E</td>\n",
       "            <td>513220.87999999995</td>\n",
       "        </tr>\n",
       "        <tr>\n",
       "            <td>Region 4</td>\n",
       "            <td>Product B</td>\n",
       "            <td>557967.66</td>\n",
       "        </tr>\n",
       "        <tr>\n",
       "            <td>Region 5</td>\n",
       "            <td>Product B</td>\n",
       "            <td>530907.1000000004</td>\n",
       "        </tr>\n",
       "    </tbody>\n",
       "</table>"
      ],
      "text/plain": [
       "[('Region 1', 'Product C', 521125.4800000001),\n",
       " ('Region 2', 'Product A', 550697.7000000002),\n",
       " ('Region 3', 'Product E', 513220.87999999995),\n",
       " ('Region 4', 'Product B', 557967.66),\n",
       " ('Region 5', 'Product B', 530907.1000000004)]"
      ]
     },
     "execution_count": 10,
     "metadata": {},
     "output_type": "execute_result"
    }
   ],
   "source": [
    "%%sql\n",
    "\n",
    "WITH product_sales_by_region AS (\n",
    "    SELECT\n",
    "        region,\n",
    "        product,\n",
    "        SUM(sales) AS total_sales\n",
    "    FROM\n",
    "        sales_data\n",
    "    GROUP BY\n",
    "        region,\n",
    "        product\n",
    "), top_selling_product_by_region AS (\n",
    "    SELECT\n",
    "        region,\n",
    "        product,\n",
    "        total_sales,\n",
    "        RANK() OVER (PARTITION BY region ORDER BY total_sales DESC) AS rank\n",
    "    FROM\n",
    "        product_sales_by_region\n",
    ")\n",
    "SELECT\n",
    "    region,\n",
    "    product,\n",
    "    total_sales\n",
    "FROM\n",
    "    top_selling_product_by_region\n",
    "WHERE\n",
    "    rank = 1;\n"
   ]
  }
 ],
 "metadata": {
  "kernelspec": {
   "display_name": "p310",
   "language": "python",
   "name": "python3"
  },
  "language_info": {
   "codemirror_mode": {
    "name": "ipython",
    "version": 3
   },
   "file_extension": ".py",
   "mimetype": "text/x-python",
   "name": "python",
   "nbconvert_exporter": "python",
   "pygments_lexer": "ipython3",
   "version": "3.10.10"
  },
  "orig_nbformat": 4
 },
 "nbformat": 4,
 "nbformat_minor": 2
}
