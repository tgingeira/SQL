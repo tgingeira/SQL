{
 "cells": [
  {
   "attachments": {},
   "cell_type": "markdown",
   "metadata": {},
   "source": [
    "# Mastering SQL Basics: How to Extract Data Using SELECT, FROM, and WHERE Commands\n",
    "\n",
    "### Introduction to SQL and relational databases\n",
    "\n",
    "Structured Query Language (SQL) is a programming language used to manage and manipulate data in a relational database. A relational database is a collection of tables that are related to each other through common columns or fields. Each table consists of rows and columns where rows represent individual records and columns represent attributes or fields of that record.\n",
    "\n",
    "SQL is used to retrieve, update, and delete data from a database. SQL commands can be used to create tables, insert data, update data, and delete data. In this tutorial, we'll focus on using SQL to retrieve data from a database."
   ]
  },
  {
   "attachments": {},
   "cell_type": "markdown",
   "metadata": {},
   "source": [
    "I'll begin  by demonstrating how to create a DataFrame with random data using Python and copy it to a table in a SQLite database. This practical example will help you understand how to apply the concepts of SQL to real-world situations.\n",
    "\n",
    "Please don't be put off by the following python code. It's just a few lines of code to create a DataFrame and copy it to a SQLite database. You don't need to understand the code to follow the rest of the tutorial."
   ]
  },
  {
   "cell_type": "code",
   "execution_count": 1,
   "metadata": {},
   "outputs": [],
   "source": [
    "import pandas as pd \n",
    "import numpy as np\n",
    "import sqlite3\n",
    "import sqlalchemy\n",
    "import random\n",
    "from datetime import datetime, timedelta\n",
    "import os"
   ]
  },
  {
   "cell_type": "code",
   "execution_count": 2,
   "metadata": {},
   "outputs": [],
   "source": [
    "# Define the products and regions\n",
    "products = ['Product A', 'Product B', 'Product C', 'Product D', 'Product E']\n",
    "regions = ['Region 1', 'Region 2', 'Region 3', 'Region 4', 'Region 5']\n",
    "\n",
    "# Set the random seed\n",
    "random.seed(123)\n",
    "\n",
    "# Generate random sales data\n",
    "sales_data = []\n",
    "start_date = datetime(2022, 1, 1)\n",
    "end_date = datetime(2022, 12, 31)\n",
    "for i in range(1000):\n",
    "    product = random.choice(products)\n",
    "    region = random.choice(regions)\n",
    "    sale_date = start_date + timedelta(days=random.randint(0, (end_date - start_date).days))\n",
    "    sales = np.round(random.uniform(1000, 10000), 2)\n",
    "    sales_data.append([product, region, sale_date, sales])\n",
    "\n",
    "# Convert the sales data to a Pandas DataFrame\n",
    "columns = ['Product', 'Region', 'Sale Date', 'Sales']\n",
    "df = pd.DataFrame(sales_data, columns=columns)\n",
    "\n",
    "# Save the DataFrame to a CSV file\n",
    "df.to_csv('sales_data.csv', index=False)\n"
   ]
  },
  {
   "cell_type": "code",
   "execution_count": 3,
   "metadata": {},
   "outputs": [],
   "source": [
    "# Define the name of the database and the name of the table\n",
    "database = 'data/sales.db'\n",
    "table = 'sales_data'\n",
    "\n",
    "# Create the data folder if it doesn't exist\n",
    "if not os.path.exists('data'):\n",
    "    os.makedirs('data')\n",
    "\n",
    "# Connect to the database\n",
    "conn = sqlite3.connect(database)\n",
    "\n",
    "# Check if the table already exists\n",
    "cursor = conn.cursor()\n",
    "cursor.execute(f\"SELECT name FROM sqlite_master WHERE type='table' AND name='{table}'\")\n",
    "table_exists = cursor.fetchone() is not None\n",
    "\n",
    "# If the table doesn't exist, create it\n",
    "if not table_exists:\n",
    "    df.to_sql(table, conn, index=False)\n",
    "\n",
    "# If the table already exists, append the new data to it\n",
    "else:\n",
    "    df.to_sql(table, conn, index=False, if_exists='append')\n",
    "\n",
    "# Close the connection\n",
    "conn.close()\n"
   ]
  },
  {
   "cell_type": "code",
   "execution_count": 4,
   "metadata": {},
   "outputs": [],
   "source": [
    "%load_ext sql"
   ]
  },
  {
   "attachments": {},
   "cell_type": "markdown",
   "metadata": {},
   "source": [
    "This command %load_ext sql is a Jupyter magic command that loads an SQL extension into the notebook."
   ]
  },
  {
   "cell_type": "code",
   "execution_count": 5,
   "metadata": {},
   "outputs": [
    {
     "data": {
      "text/plain": [
       "'Connected: @data/sales.db'"
      ]
     },
     "execution_count": 5,
     "metadata": {},
     "output_type": "execute_result"
    }
   ],
   "source": [
    "%sql sqlite:///data/sales.db"
   ]
  },
  {
   "attachments": {},
   "cell_type": "markdown",
   "metadata": {},
   "source": [
    "The command %sql sqlite:///data/orders.db sets up a connection to the SQLite database located at data/orders.db.\n",
    "\n",
    "The sqlite:/// prefix indicates that we are using the SQLite database engine, and the path data/orders.db specifies the location of the database file on disk.\n",
    "\n",
    "By running this command, we establish a connection to the SQLite database within our Jupyter notebook environment. Once the connection is established, we can execute SQL commands directly in code cells using the %sql prefix, allowing us to query and manipulate the data in the database as needed.\n",
    "\n",
    "Overall, using the %sql sqlite:///data/orders.db command sets up a connection to an SQLite database within a Jupyter notebook, providing a convenient way to interact with the data using SQL commands."
   ]
  },
  {
   "attachments": {},
   "cell_type": "markdown",
   "metadata": {},
   "source": [
    "### Using SELECT to retrieve data from a table\n",
    "\n",
    "In SQL, the SELECT and FROM commands are two essential parts of a query that enable you to retrieve data from a database. The SELECT command specifies the columns that you want to retrieve data from, while the FROM command identifies the table or tables that you want to retrieve the data from. By combining these commands, you can create complex queries that filter, sort, and join data from multiple tables to get the desired results. The SELECT and FROM commands are the foundation of SQL queries and are used in almost every query that you write.\n",
    "\n",
    "The basic syntax of a SELECT statement is as follows:\n",
    "\n",
    "```sql\n",
    "SELECT column1, column2, ...\n",
    "FROM table_name;\n",
    "```\n",
    "\n",
    "In the example bellow I'll also use the LIMIT clause to limit the number of rows returned by the query as it would otherwise return all 1000 rows in the table."
   ]
  },
  {
   "cell_type": "code",
   "execution_count": 6,
   "metadata": {},
   "outputs": [
    {
     "name": "stdout",
     "output_type": "stream",
     "text": [
      " * sqlite:///data/sales.db\n",
      "Done.\n"
     ]
    },
    {
     "data": {
      "text/html": [
       "<table>\n",
       "    <thead>\n",
       "        <tr>\n",
       "            <th>Product</th>\n",
       "            <th>Region</th>\n",
       "            <th>Sales</th>\n",
       "        </tr>\n",
       "    </thead>\n",
       "    <tbody>\n",
       "        <tr>\n",
       "            <td>Product A</td>\n",
       "            <td>Region 3</td>\n",
       "            <td>7920.61</td>\n",
       "        </tr>\n",
       "        <tr>\n",
       "            <td>Product C</td>\n",
       "            <td>Region 1</td>\n",
       "            <td>4412.12</td>\n",
       "        </tr>\n",
       "        <tr>\n",
       "            <td>Product E</td>\n",
       "            <td>Region 3</td>\n",
       "            <td>8668.78</td>\n",
       "        </tr>\n",
       "        <tr>\n",
       "            <td>Product B</td>\n",
       "            <td>Region 2</td>\n",
       "            <td>6048.66</td>\n",
       "        </tr>\n",
       "        <tr>\n",
       "            <td>Product B</td>\n",
       "            <td>Region 2</td>\n",
       "            <td>9153.15</td>\n",
       "        </tr>\n",
       "    </tbody>\n",
       "</table>"
      ],
      "text/plain": [
       "[('Product A', 'Region 3', 7920.61),\n",
       " ('Product C', 'Region 1', 4412.12),\n",
       " ('Product E', 'Region 3', 8668.78),\n",
       " ('Product B', 'Region 2', 6048.66),\n",
       " ('Product B', 'Region 2', 9153.15)]"
      ]
     },
     "execution_count": 6,
     "metadata": {},
     "output_type": "execute_result"
    }
   ],
   "source": [
    "%%sql\n",
    "\n",
    "SELECT Product, Region, Sales\n",
    "FROM sales_data\n",
    "LIMIT 5;"
   ]
  }
 ],
 "metadata": {
  "kernelspec": {
   "display_name": "p310",
   "language": "python",
   "name": "python3"
  },
  "language_info": {
   "codemirror_mode": {
    "name": "ipython",
    "version": 3
   },
   "file_extension": ".py",
   "mimetype": "text/x-python",
   "name": "python",
   "nbconvert_exporter": "python",
   "pygments_lexer": "ipython3",
   "version": "3.10.10"
  },
  "orig_nbformat": 4
 },
 "nbformat": 4,
 "nbformat_minor": 2
}
